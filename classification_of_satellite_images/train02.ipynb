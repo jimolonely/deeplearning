{
 "cells": [
  {
   "cell_type": "markdown",
   "metadata": {},
   "source": [
    "## 多分类 One vs Rest"
   ]
  },
  {
   "cell_type": "markdown",
   "metadata": {},
   "source": [
    "### 数据"
   ]
  },
  {
   "cell_type": "code",
   "execution_count": 1,
   "metadata": {},
   "outputs": [
    {
     "name": "stdout",
     "output_type": "stream",
     "text": [
      "[[  637.595   658.668 -1882.03  ..., -2203.02  -1180.19    433.906]\n",
      " [  634.24    593.705 -1625.79  ..., -2250.    -1360.56    524.075]\n",
      " [ 1671.34   1206.88    449.735 ...,  2762.57    150.931  3800.81 ]\n",
      " ..., \n",
      " [ 3465.74   1283.32    413.412 ...,  3759.71   3267.17    388.346]\n",
      " [ 2435.3    1444.4    1133.76  ...,  1880.59   1614.84   1518.98 ]\n",
      " [ 6941.19   1667.87   5084.78  ...,  5983.13   1249.71   2424.23 ]] [ 0.  0.  0. ...,  5.  5.  5.]\n",
      "True\n"
     ]
    }
   ],
   "source": [
    "import pandas as pd\n",
    "\n",
    "train = pd.read_csv('train_data.csv').values\n",
    "test = pd.read_csv('test_data.csv').values\n",
    "\n",
    "X_train,y_train = train[:,1:],train[:,0]\n",
    "print(X_train,y_train)\n",
    "X_test,y_test = test[:,1:],test[:,0]\n",
    "print(len(X_train[0])==len(X_test[0]))"
   ]
  },
  {
   "cell_type": "markdown",
   "metadata": {},
   "source": [
    "## Do it"
   ]
  },
  {
   "cell_type": "code",
   "execution_count": 2,
   "metadata": {},
   "outputs": [],
   "source": [
    "from sklearn.multiclass import OneVsRestClassifier\n",
    "from sklearn.svm import LinearSVC"
   ]
  },
  {
   "cell_type": "code",
   "execution_count": 3,
   "metadata": {},
   "outputs": [],
   "source": [
    "y_pred = OneVsRestClassifier(LinearSVC()).fit(X_train,y_train).predict(X_test)"
   ]
  },
  {
   "cell_type": "markdown",
   "metadata": {},
   "source": [
    "### 测试"
   ]
  },
  {
   "cell_type": "code",
   "execution_count": 4,
   "metadata": {},
   "outputs": [],
   "source": [
    "from sklearn import metrics"
   ]
  },
  {
   "cell_type": "code",
   "execution_count": 5,
   "metadata": {},
   "outputs": [
    {
     "name": "stdout",
     "output_type": "stream",
     "text": [
      "0.363333333333\n"
     ]
    }
   ],
   "source": [
    "acc = metrics.accuracy_score(y_test,y_pred)\n",
    "print(acc)"
   ]
  },
  {
   "cell_type": "code",
   "execution_count": null,
   "metadata": {},
   "outputs": [],
   "source": []
  }
 ],
 "metadata": {
  "kernelspec": {
   "display_name": "Python 3",
   "language": "python",
   "name": "python3"
  },
  "language_info": {
   "codemirror_mode": {
    "name": "ipython",
    "version": 3
   },
   "file_extension": ".py",
   "mimetype": "text/x-python",
   "name": "python",
   "nbconvert_exporter": "python",
   "pygments_lexer": "ipython3",
   "version": "3.6.2"
  }
 },
 "nbformat": 4,
 "nbformat_minor": 2
}
