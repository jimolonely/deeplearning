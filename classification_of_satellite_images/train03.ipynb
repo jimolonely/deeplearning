{
 "cells": [
  {
   "cell_type": "markdown",
   "metadata": {},
   "source": [
    "## One vs One"
   ]
  },
  {
   "cell_type": "code",
   "execution_count": 18,
   "metadata": {},
   "outputs": [
    {
     "name": "stdout",
     "output_type": "stream",
     "text": [
      "[[  637.595   658.668 -1882.03  ..., -2203.02  -1180.19    433.906]\n",
      " [  634.24    593.705 -1625.79  ..., -2250.    -1360.56    524.075]\n",
      " [ 1671.34   1206.88    449.735 ...,  2762.57    150.931  3800.81 ]\n",
      " ..., \n",
      " [ 3465.74   1283.32    413.412 ...,  3759.71   3267.17    388.346]\n",
      " [ 2435.3    1444.4    1133.76  ...,  1880.59   1614.84   1518.98 ]\n",
      " [ 6941.19   1667.87   5084.78  ...,  5983.13   1249.71   2424.23 ]] [ 0.  0.  0. ...,  5.  5.  5.]\n",
      "True\n"
     ]
    }
   ],
   "source": [
    "import pandas as pd\n",
    "\n",
    "train = pd.read_csv('train_data.csv').values\n",
    "test = pd.read_csv('test_data.csv').values\n",
    "\n",
    "X_train,y_train = train[:,1:],train[:,0]\n",
    "print(X_train,y_train)\n",
    "X_test,y_test = test[:,1:],test[:,0]\n",
    "print(len(X_train[0])==len(X_test[0]))"
   ]
  },
  {
   "cell_type": "code",
   "execution_count": 2,
   "metadata": {},
   "outputs": [],
   "source": [
    "from sklearn.multiclass import OneVsOneClassifier\n",
    "from sklearn.svm import LinearSVC\n",
    "from sklearn import metrics"
   ]
  },
  {
   "cell_type": "code",
   "execution_count": 19,
   "metadata": {},
   "outputs": [
    {
     "name": "stdout",
     "output_type": "stream",
     "text": [
      "0.406666666667\n"
     ]
    }
   ],
   "source": [
    "y_pred = OneVsOneClassifier(LinearSVC()).fit(X_train,y_train).predict(X_test)\n",
    "acc = metrics.accuracy_score(y_test,y_pred)\n",
    "print(acc)"
   ]
  },
  {
   "cell_type": "code",
   "execution_count": 5,
   "metadata": {},
   "outputs": [],
   "source": [
    "import matplotlib.pyplot as plt"
   ]
  },
  {
   "cell_type": "code",
   "execution_count": 20,
   "metadata": {},
   "outputs": [
    {
     "data": {
      "image/png": "[encoded data removed]",
      "text/plain": [
       "<matplotlib.figure.Figure at 0x7f2200f2b7f0>"
      ]
     },
     "metadata": {},
     "output_type": "display_data"
    }
   ],
   "source": [
    "plt.figure(1,figsize=(20,3))\n",
    "x = range(len(y_pred))\n",
    "plt.scatter(x,y_pred,c='r')\n",
    "plt.scatter(x,y_test,c='g')\n",
    "plt.show()\n",
    "#{'water': 0, 'forest': 1, 'orchard': 2, 'farm': 3, 'grass': 4, 'impervious': 5}"
   ]
  },
  {
   "cell_type": "code",
   "execution_count": null,
   "metadata": {},
   "outputs": [],
   "source": []
  }
 ],
 "metadata": {
  "kernelspec": {
   "display_name": "Python 3",
   "language": "python",
   "name": "python3"
  },
  "language_info": {
   "codemirror_mode": {
    "name": "ipython",
    "version": 3
   },
   "file_extension": ".py",
   "mimetype": "text/x-python",
   "name": "python",
   "nbconvert_exporter": "python",
   "pygments_lexer": "ipython3",
   "version": "3.6.2"
  }
 },
 "nbformat": 4,
 "nbformat_minor": 2
}
