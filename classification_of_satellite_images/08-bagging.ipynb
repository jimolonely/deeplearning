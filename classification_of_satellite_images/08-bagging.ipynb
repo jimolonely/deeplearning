{
 "cells": [
  {
   "cell_type": "code",
   "execution_count": 34,
   "metadata": {
    "collapsed": true
   },
   "outputs": [],
   "source": [
    "# 使用bagging\n",
    "\n",
    "import matplotlib.pyplot as plt"
   ]
  },
  {
   "cell_type": "code",
   "execution_count": 22,
   "metadata": {},
   "outputs": [],
   "source": [
    "import tensorflow as tf\n",
    "import numpy as np\n",
    "import sklearn.feature_selection as fs\n",
    "\n",
    "TRAIN_DATA_FILE = \"train_data.csv\"\n",
    "TEST_DATA_FILE = \"test_data.csv\"\n",
    "\n",
    "\n",
    "def read_split_train_test_data():\n",
    "    training_set = tf.contrib.learn.datasets.base.load_csv_with_header(\n",
    "        filename=TRAIN_DATA_FILE,\n",
    "        target_dtype=np.int,\n",
    "        features_dtype=np.float32,\n",
    "        target_column=0\n",
    "    )\n",
    "    test_set = tf.contrib.learn.datasets.base.load_csv_with_header(\n",
    "        filename=TEST_DATA_FILE,\n",
    "        target_dtype=np.int,\n",
    "        features_dtype=np.float32,\n",
    "        target_column=0\n",
    "    )\n",
    "    # print(training_set)\n",
    "    X, y = training_set.data, training_set.target\n",
    "    # print(X.shape)\n",
    "    # print(y.shape)\n",
    "    X_test, y_test = test_set.data, test_set.target\n",
    "    # print(X_test.shape)\n",
    "    # print(y_test.shape)\n",
    "    return X, y, X_test, y_test\n",
    "\n",
    "\n",
    "def read_train_test_data():\n",
    "    '''不把标签和数据分开'''\n",
    "    x, y, x_t, y_t = read_split_train_test_data()\n",
    "    y = y.reshape(x.shape[0], -1)\n",
    "    # print(y.shape)\n",
    "    y_t = y_t.reshape(x_t.shape[0], -1)\n",
    "    x_train = np.concatenate((x, y), axis=1)\n",
    "    x_test = np.concatenate((x_t, y_t), axis=1)\n",
    "    # print(x_train.shape)\n",
    "    return x_train, x_test\n",
    "\n",
    "\n",
    "def split_data_label(X):\n",
    "    '''将数据和标签分开,默认标签位于最后一列'''\n",
    "    data, label = X[:, :-1], X[:, -1]\n",
    "    return data, label\n",
    "\n",
    "\n",
    "d_train, d_test = read_train_test_data()\n"
   ]
  },
  {
   "cell_type": "code",
   "execution_count": 64,
   "metadata": {},
   "outputs": [],
   "source": [
    "from sklearn.naive_bayes import GaussianNB\n",
    "from sklearn.ensemble import RandomForestClassifier\n",
    "from sklearn import metrics\n",
    "from sklearn.ensemble import BaggingClassifier\n",
    "from collections import Counter"
   ]
  },
  {
   "cell_type": "code",
   "execution_count": 17,
   "metadata": {},
   "outputs": [
    {
     "name": "stdout",
     "output_type": "stream",
     "text": [
      "(10545, 28)\n(10545,)\n(300, 28)\n(300,)\n0.68\n<class 'numpy.ndarray'>\n0.683333333333\n"
     ]
    }
   ],
   "source": [
    "X,y,X_test,y_test = read_split_train_test_data()\n",
    "cls = BaggingClassifier(base_estimator=GaussianNB(),max_samples=1.0)\n",
    "\n",
    "y_pred = cls.fit(X, y).predict(X_test)\n",
    "acc = metrics.accuracy_score(y_test, y_pred)\n",
    "print(acc)\n",
    "\n",
    "# 打乱数据集\n",
    "\n",
    "cls = BaggingClassifier(base_estimator=GaussianNB(), max_samples=1.0)\n",
    "\n",
    "indices = np.random.permutation(X.shape[0])  # shape[0]表示第0轴的长度，通常是训练数据的数量  \n",
    "rand_data_x = X[indices]\n",
    "rand_data_y = y[indices]  # data_y就是标记（label）  \n",
    "\n",
    "y_pred = cls.fit(rand_data_x, rand_data_y).predict(X_test)\n",
    "print(type(y_pred))\n",
    "acc = metrics.accuracy_score(y_test, y_pred)\n",
    "print(acc)"
   ]
  },
  {
   "cell_type": "code",
   "execution_count": 6,
   "metadata": {},
   "outputs": [],
   "source": [
    "# 我打算将数据手动分开再分别训练"
   ]
  },
  {
   "cell_type": "code",
   "execution_count": 18,
   "metadata": {},
   "outputs": [],
   "source": [
    "def split_class_1(data):\n",
    "    X, y = split_data_label(data)\n",
    "    # 提取出类别为1的数据\n",
    "    X_1 = np.array([list(X[i]) for i in range(len(y)) if y[i] == 1])\n",
    "    y_1 = np.array([y[i] for i in range(len(y)) if y[i] == 1])\n",
    "    print(X_1.shape[0], y_1.shape[0])\n",
    "    # 提取出类别不为1的数据\n",
    "    X_n1 = np.array([list(X[i]) for i in range(len(y)) if y[i] != 1])\n",
    "    y_n1 = np.array([y[i] for i in range(len(y)) if y[i] != 1])\n",
    "    return X_1, y_1, X_n1, y_n1\n"
   ]
  },
  {
   "cell_type": "code",
   "execution_count": 75,
   "metadata": {},
   "outputs": [
    {
     "name": "stdout",
     "output_type": "stream",
     "text": [
      "7431 7431\n(6, 300)\n0.706666666667\n{0.0: 9, 4.0: 15, 3.0: 12, 2.0: 26, 1.0: 20, 5.0: 6}\n[0.1956521739130435, 0.2564102564102564, 0.4166666666666667, 0.22641509433962265, 0.5531914893617021, 0.15]\n"
     ]
    },
    {
     "data": {
      "image/png": "[encoded data removed]",
      "text/plain": [
       "<matplotlib.figure.Figure at 0x7f0a7d749240>"
      ]
     },
     "metadata": {},
     "output_type": "display_data"
    }
   ],
   "source": [
    "data, data_test = read_train_test_data()\n",
    "\n",
    "np.random.shuffle(data)\n",
    "X_test, y_test = split_data_label(data_test)\n",
    "\n",
    "X_1, y_1, X_n1, y_n1 = split_class_1(data)\n",
    "pred_record = []\n",
    "y_pred = None\n",
    "al = int(len(X_1) / 6)\n",
    "gnb = GaussianNB()\n",
    "for i in range(6):\n",
    "    xt1 = X_1[i * al:(i + 1) * al, :]\n",
    "    yt1 = y_1[i * al:(i + 1) * al]\n",
    "    X_temp = np.concatenate((xt1, X_n1), axis=0)\n",
    "    y_temp = np.concatenate((yt1, y_n1), axis=0)\n",
    "    # print(temp.shape)\n",
    "    if i == 0:\n",
    "        y_pred = gnb.fit(X_temp, y_temp).predict(X_test)\n",
    "    else:\n",
    "        y_p = gnb.fit(X_temp, y_temp).predict(X_test)\n",
    "        y_pred = np.concatenate((y_pred, y_p))\n",
    "\n",
    "        # acc = metrics.accuracy_score(y_test, y_pred)\n",
    "        # print(acc)\n",
    "y_pred = y_pred.reshape(6, -1)\n",
    "print(y_pred.shape)\n",
    "\n",
    "col_len = y_pred.shape[1]\n",
    "# col_len = 5\n",
    "y_pred_final = []\n",
    "for i in range(col_len):\n",
    "    choose = Counter(list(y_pred[:, i])).most_common(1)[0][0]\n",
    "    # print(choose)\n",
    "    y_pred_final.append(choose)\n",
    "\n",
    "acc = metrics.accuracy_score(y_test, y_pred_final)\n",
    "print(acc)\n",
    "\n",
    "# 看看预测值和测试值有哪些差别\n",
    "cnt = {}\n",
    "test_cnt = {}\n",
    "for i in range(y_test.shape[0]):\n",
    "    test_cnt[y_test[i]] = test_cnt.get(y_test[i], 0) + 1\n",
    "    if y_pred_final[i] != y_test[i]:\n",
    "        cnt[y_test[i]] = cnt.get(y_test[i], 0) + 1\n",
    "\n",
    "print(cnt)\n",
    "key = list(cnt.keys())\n",
    "val = list(cnt.values())\n",
    "\n",
    "# 计算每种类别预测错误的百分比\n",
    "err_percent = []\n",
    "for k in test_cnt.keys():\n",
    "    err_percent.append(cnt.get(k, 0) / test_cnt.get(k))\n",
    "print(err_percent)\n",
    "plt.figure(1, figsize=(20, 5))\n",
    "plt.subplot(121)\n",
    "plt.bar(key, val)\n",
    "plt.xlabel('class')\n",
    "plt.ylabel('error cnt')\n",
    "plt.subplot(122)\n",
    "# plt.pie(err_percent, labels=list(test_cnt.keys()), autopct='%.2f')\n",
    "plt.bar(list(test_cnt.keys()), err_percent)\n",
    "plt.ylabel('percent')\n",
    "plt.xlabel('class')\n",
    "plt.show()\n"
   ]
  },
  {
   "cell_type": "code",
   "execution_count": 44,
   "metadata": {},
   "outputs": [
    {
     "name": "stdout",
     "output_type": "stream",
     "text": [
      "0.696666666667\n0.703333333333\n0.703333333333\n0.7\n"
     ]
    }
   ],
   "source": [
    "\n",
    "al = int(len(X_1) / 4)\n",
    "gnb = GaussianNB()\n",
    "for i in range(4):\n",
    "    xt1 = X_1[i * al:(i + 1) * al, :]\n",
    "    yt1 = y_1[i * al:(i + 1) * al]\n",
    "    X_temp = np.concatenate((xt1, X_n1), axis=0)\n",
    "    y_temp = np.concatenate((yt1, y_n1), axis=0)\n",
    "    # print(temp.shape)\n",
    "    y_pred = gnb.fit(X_temp, y_temp).predict(X_test)\n",
    "    \n",
    "    # 记录每个结果,最后会评比\n",
    "    \n",
    "    acc = metrics.accuracy_score(y_test, y_pred)\n",
    "    print(acc)\n"
   ]
  },
  {
   "cell_type": "code",
   "execution_count": null,
   "metadata": {},
   "outputs": [],
   "source": []
  }
 ],
 "metadata": {
  "kernelspec": {
   "display_name": "Python 2",
   "language": "python",
   "name": "python2"
  },
  "language_info": {
   "codemirror_mode": {
    "name": "ipython",
    "version": 2
   },
   "file_extension": ".py",
   "mimetype": "text/x-python",
   "name": "python",
   "nbconvert_exporter": "python",
   "pygments_lexer": "ipython2",
   "version": "2.7.6"
  }
 },
 "nbformat": 4,
 "nbformat_minor": 0
}
