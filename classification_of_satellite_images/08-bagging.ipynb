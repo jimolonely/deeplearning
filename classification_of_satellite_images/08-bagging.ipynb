{
 "cells": [
  {
   "cell_type": "code",
   "execution_count": 1,
   "metadata": {
    "collapsed": true
   },
   "outputs": [],
   "source": [
    "# 使用bagging"
   ]
  },
  {
   "cell_type": "code",
   "execution_count": 3,
   "metadata": {},
   "outputs": [
    {
     "name": "stdout",
     "output_type": "stream",
     "text": [
      "[[  997.9039917    637.5949707    658.66802979 ..., -2203.02001953\n  -1180.18994141   433.90600586]\n [  914.19799805   634.23999023   593.70501709 ..., -2250.         -1360.56005859\n    524.07501221]\n [ 3800.81005859  1671.33996582  1206.88000488 ...,  2762.57006836\n    150.93099976  3800.81005859]\n ..., \n [ 5833.75976562  3465.73999023  1283.31994629 ...,  3759.70996094\n   3267.16992188   388.3460083 ]\n [ 3079.31005859  2435.30004883  1444.40002441 ...,  1880.58996582\n   1614.83996582  1518.97998047]\n [ 7352.56982422  6941.18994141  1667.86999512 ...,  5983.12988281\n   1249.70996094  2424.22998047]]\n[0 0 0 ..., 5 5 5]\n[[ 2750.11010742  1361.89001465  -247.50799561 ...,   -81.54180145\n   1146.26000977 -1566.48999023]\n [ 2646.25        1760.84997559   481.1000061  ...,   668.75        1519.73999023\n   -568.97302246]\n [ 3509.62011719  3509.62011719  -241.32000732 ...,  1132.90002441\n    594.059021    -993.65802002]\n ..., \n [  987.46099854 -2364.60009766  -155.59199524 ..., -4259.29980469\n    412.11499023 -1170.75      ]\n [  973.95300293 -3004.62988281 -1217.11999512 ..., -5574.50976562\n    298.73901367   460.41900635]\n [  516.42700195 -2975.10009766 -1129.79003906 ..., -5453.33007812\n    307.49499512   417.12399292]]\n[0 0 0 0 0 0 0 0 0 0 0 0 0 0 0 1 1 1 1 4 1 1 1 1 4 1 1 1 1 1 1 3 1 1 1 1 1\n 1 1 1 1 4 2 1 4 1 0 0 1 1 1 2 1 0 0 1 1 2 1 1 1 1 1 1 1 1 4 1 1 1 4 2 4 0\n 0 0 0 0 1 5 4 5 5 5 5 5 1 5 5 5 5 5 5 4 4 3 5 5 5 5 1 4 5 1 3 5 5 5 4 5 4\n 4 1 5 5 4 3 4 1 3 3 3 3 3 3 3 3 3 3 3 3 3 3 3 2 1 2 1 3 3 2 5 4 3 3 2 2 2\n 2 2 2 2 2 3 3 3 2 3 3 3 3 3 3 3 3 3 5 5 5 3 3 3 3 5 2 2 2 5 3 3 2 2 3 3 2\n 2 2 2 2 2 2 2 2 2 3 2 2 2 2 2 2 2 2 2 2 2 4 5 5 5 1 4 3 3 3 3 5 4 3 5 4 5\n 3 5 4 5 3 3 3 5 2 2 2 2 2 1 4 4 1 1 1 1 1 1 1 1 1 4 4 1 1 1 1 1 1 4 1 4 4\n 4 1 1 1 4 4 4 4 4 1 1 1 1 1 1 1 5 5 4 0 0 0 0 0 0 0 0 0 0 0 0 0 0 0 0 0 0\n 0 0 0 0]\n"
     ]
    }
   ],
   "source": [
    "import tensorflow as tf\n",
    "import numpy as np\n",
    "import sklearn.feature_selection as fs\n",
    "\n",
    "TRAIN_DATA_FILE = \"train_data.csv\"\n",
    "TEST_DATA_FILE = \"test_data.csv\"\n",
    "\n",
    "training_set = tf.contrib.learn.datasets.base.load_csv_with_header(\n",
    "    filename=TRAIN_DATA_FILE,\n",
    "    target_dtype=np.int,\n",
    "    features_dtype=np.float32,\n",
    "    target_column=0\n",
    ")\n",
    "test_set = tf.contrib.learn.datasets.base.load_csv_with_header(\n",
    "    filename=TEST_DATA_FILE,\n",
    "    target_dtype=np.int,\n",
    "    features_dtype=np.float32,\n",
    "    target_column=0\n",
    ")\n",
    "# print(training_set)\n",
    "X, y = training_set.data, training_set.target\n",
    "print(X)\n",
    "print(y)\n",
    "X_test, y_test = test_set.data, test_set.target\n",
    "print(X_test)\n",
    "print(y_test)"
   ]
  },
  {
   "cell_type": "code",
   "execution_count": 84,
   "metadata": {},
   "outputs": [],
   "source": [
    "from sklearn.naive_bayes import GaussianNB\n",
    "from sklearn import metrics\n",
    "from sklearn.ensemble import BaggingClassifier\n",
    "from collections import Counter"
   ]
  },
  {
   "cell_type": "code",
   "execution_count": 42,
   "metadata": {},
   "outputs": [
    {
     "name": "stdout",
     "output_type": "stream",
     "text": [
      "0.683333333333\n"
     ]
    }
   ],
   "source": [
    "cls = BaggingClassifier(base_estimator=GaussianNB(),max_samples=1.0)\n",
    "\n",
    "y_pred = cls.fit(X, y).predict(X_test)\n",
    "acc = metrics.accuracy_score(y_test, y_pred)\n",
    "print(acc)\n"
   ]
  },
  {
   "cell_type": "code",
   "execution_count": 58,
   "metadata": {},
   "outputs": [
    {
     "name": "stdout",
     "output_type": "stream",
     "text": [
      "<class 'numpy.ndarray'>\n0.683333333333\n"
     ]
    }
   ],
   "source": [
    "# 打乱数据集\n",
    "\n",
    "cls = BaggingClassifier(base_estimator=GaussianNB(), max_samples=1.0)\n",
    "\n",
    "indices = np.random.permutation(X.shape[0])  # shape[0]表示第0轴的长度，通常是训练数据的数量  \n",
    "rand_data_x = X[indices]\n",
    "rand_data_y = y[indices]  # data_y就是标记（label）  \n",
    "\n",
    "y_pred = cls.fit(rand_data_x, rand_data_y).predict(X_test)\n",
    "print(type(y_pred))\n",
    "acc = metrics.accuracy_score(y_test, y_pred)\n",
    "print(acc)\n"
   ]
  },
  {
   "cell_type": "code",
   "execution_count": 43,
   "metadata": {},
   "outputs": [],
   "source": [
    "# 我打算将数据手动分开再分别训练"
   ]
  },
  {
   "cell_type": "code",
   "execution_count": 75,
   "metadata": {},
   "outputs": [
    {
     "name": "stdout",
     "output_type": "stream",
     "text": [
      "7431 7431\n3114 3114\n"
     ]
    }
   ],
   "source": [
    "# 提取出类别为1的数据\n",
    "X_1 = np.array([list(X[i]) for i in range(len(y)) if y[i] == 1])\n",
    "y_1 = np.array([y[i] for i in range(len(y)) if y[i] == 1])\n",
    "print(X_1.shape[0], y_1.shape[0])\n",
    "# 提取出类别不为1的数据\n",
    "X_n1 = np.array([list(X[i]) for i in range(len(y)) if y[i] != 1])\n",
    "y_n1 = np.array([y[i] for i in range(len(y)) if y[i] != 1])\n",
    "print(len(X_n1), len(y_n1))\n",
    "\n",
    "# 将类别为1的随机分成5份和其他类别数据再组成5份训练数据\n",
    "X_5 = []  # 每个元素是一个X训练数据\n",
    "y_5 = []  # 每个元素是一个y训练数据\n",
    "\n",
    "\n",
    "\n"
   ]
  },
  {
   "cell_type": "code",
   "execution_count": 87,
   "metadata": {},
   "outputs": [
    {
     "name": "stdout",
     "output_type": "stream",
     "text": [
      "(5, 300)\n0.71\n"
     ]
    }
   ],
   "source": [
    "pred_record = []\n",
    "y_pred = None\n",
    "al = int(len(X_1) / 5)\n",
    "gnb = GaussianNB()\n",
    "for i in range(5):\n",
    "    xt1 = X_1[i * al:(i + 1) * al, :]\n",
    "    yt1 = y_1[i * al:(i + 1) * al]\n",
    "    X_temp = np.concatenate((xt1, X_n1), axis=0)\n",
    "    y_temp = np.concatenate((yt1, y_n1), axis=0)\n",
    "    # print(temp.shape)\n",
    "    if i == 0:\n",
    "        y_pred = gnb.fit(X_temp, y_temp).predict(X_test)\n",
    "    else:\n",
    "        y_p = gnb.fit(X_temp, y_temp).predict(X_test)\n",
    "        y_pred = np.concatenate((y_pred, y_p))\n",
    "\n",
    "        # acc = metrics.accuracy_score(y_test, y_pred)\n",
    "        # print(acc)\n",
    "y_pred = y_pred.reshape(5, -1)\n",
    "print(y_pred.shape)\n",
    "\n",
    "col_len = y_pred.shape[1]\n",
    "# col_len = 5\n",
    "y_pred_final = []\n",
    "for i in range(col_len):\n",
    "    choose = Counter(list(y_pred[:, i])).most_common(1)[0][0]\n",
    "    # print(choose)\n",
    "    y_pred_final.append(choose)\n",
    "\n",
    "acc = metrics.accuracy_score(y_test, y_pred_final)\n",
    "print(acc)\n"
   ]
  },
  {
   "cell_type": "code",
   "execution_count": 74,
   "metadata": {},
   "outputs": [
    {
     "name": "stdout",
     "output_type": "stream",
     "text": [
      "0.71\n0.7\n0.62\n0.586666666667\n"
     ]
    }
   ],
   "source": [
    "al = int(len(X_1) / 4)\n",
    "gnb = GaussianNB()\n",
    "for i in range(4):\n",
    "    xt1 = X_1[i * al:(i + 1) * al, :]\n",
    "    yt1 = y_1[i * al:(i + 1) * al]\n",
    "    X_temp = np.concatenate((xt1, X_n1), axis=0)\n",
    "    y_temp = np.concatenate((yt1, y_n1), axis=0)\n",
    "    # print(temp.shape)\n",
    "    y_pred = gnb.fit(X_temp, y_temp).predict(X_test)\n",
    "    \n",
    "    # 记录每个结果,最后会评比\n",
    "    \n",
    "    acc = metrics.accuracy_score(y_test, y_pred)\n",
    "    print(acc)\n"
   ]
  },
  {
   "cell_type": "code",
   "execution_count": null,
   "metadata": {},
   "outputs": [],
   "source": []
  }
 ],
 "metadata": {
  "kernelspec": {
   "display_name": "Python 2",
   "language": "python",
   "name": "python2"
  },
  "language_info": {
   "codemirror_mode": {
    "name": "ipython",
    "version": 2
   },
   "file_extension": ".py",
   "mimetype": "text/x-python",
   "name": "python",
   "nbconvert_exporter": "python",
   "pygments_lexer": "ipython2",
   "version": "2.7.6"
  }
 },
 "nbformat": 4,
 "nbformat_minor": 0
}
