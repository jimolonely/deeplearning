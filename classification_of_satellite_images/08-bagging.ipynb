{
 "cells": [
  {
   "cell_type": "code",
   "execution_count": 1,
   "metadata": {
    "collapsed": true
   },
   "outputs": [],
   "source": [
    "# 使用bagging"
   ]
  },
  {
   "cell_type": "code",
   "execution_count": 11,
   "metadata": {},
   "outputs": [
    {
     "name": "stdout",
     "output_type": "stream",
     "text": [
      "(10545, 28)\n(10545,)\n(300, 28)\n(300,)\n(10545, 28)\n(300,)\n(10545, 28)\n(10545,)\n(300, 28)\n(300,)\n(10545, 1)\n(10545, 29)\n(10545, 29)\n"
     ]
    }
   ],
   "source": [
    "import tensorflow as tf\n",
    "import numpy as np\n",
    "import sklearn.feature_selection as fs\n",
    "\n",
    "TRAIN_DATA_FILE = \"train_data.csv\"\n",
    "TEST_DATA_FILE = \"test_data.csv\"\n",
    "\n",
    "\n",
    "def read_split_train_test_data():\n",
    "    training_set = tf.contrib.learn.datasets.base.load_csv_with_header(\n",
    "        filename=TRAIN_DATA_FILE,\n",
    "        target_dtype=np.int,\n",
    "        features_dtype=np.float32,\n",
    "        target_column=0\n",
    "    )\n",
    "    test_set = tf.contrib.learn.datasets.base.load_csv_with_header(\n",
    "        filename=TEST_DATA_FILE,\n",
    "        target_dtype=np.int,\n",
    "        features_dtype=np.float32,\n",
    "        target_column=0\n",
    "    )\n",
    "    # print(training_set)\n",
    "    X, y = training_set.data, training_set.target\n",
    "    print(X.shape)\n",
    "    print(y.shape)\n",
    "    X_test, y_test = test_set.data, test_set.target\n",
    "    print(X_test.shape)\n",
    "    print(y_test.shape)\n",
    "    return X, y, X_test, y_test\n",
    "\n",
    "\n",
    "def read_train_test_data():\n",
    "    '''不把标签和数据分开'''\n",
    "    x, y, x_t, y_t = read_split_train_test_data()\n",
    "    y = y.reshape(x.shape[0], -1)\n",
    "    print(y.shape)\n",
    "    y_t = y_t.reshape(x_t.shape[0], -1)\n",
    "    x_train = np.concatenate((x, y), axis=1)\n",
    "    x_test = np.concatenate((x_t, y_t), axis=1)\n",
    "    print(x_train.shape)\n",
    "    return x_train, x_test\n",
    "\n",
    "\n",
    "def split_data_label(X):\n",
    "    '''将数据和标签分开,默认标签位于最后一列'''\n",
    "    data, label = X[:, :-1], X[:, -1]\n",
    "    return data, label\n",
    "\n",
    "\n",
    "# print(training_set)\n",
    "X, y, X_test, y_test = read_split_train_test_data()\n",
    "print(X.shape)\n",
    "print(y_test.shape)\n",
    "d_train, d_test = read_train_test_data()\n",
    "print(d_train.shape)\n"
   ]
  },
  {
   "cell_type": "code",
   "execution_count": 3,
   "metadata": {},
   "outputs": [],
   "source": [
    "from sklearn.naive_bayes import GaussianNB\n",
    "from sklearn import metrics\n",
    "from sklearn.ensemble import BaggingClassifier\n",
    "from collections import Counter"
   ]
  },
  {
   "cell_type": "code",
   "execution_count": 4,
   "metadata": {},
   "outputs": [
    {
     "name": "stdout",
     "output_type": "stream",
     "text": [
      "0.663333333333\n"
     ]
    }
   ],
   "source": [
    "cls = BaggingClassifier(base_estimator=GaussianNB(),max_samples=1.0)\n",
    "\n",
    "y_pred = cls.fit(X, y).predict(X_test)\n",
    "acc = metrics.accuracy_score(y_test, y_pred)\n",
    "print(acc)\n"
   ]
  },
  {
   "cell_type": "code",
   "execution_count": 5,
   "metadata": {},
   "outputs": [
    {
     "name": "stdout",
     "output_type": "stream",
     "text": [
      "<class 'numpy.ndarray'>\n0.676666666667\n"
     ]
    }
   ],
   "source": [
    "# 打乱数据集\n",
    "\n",
    "cls = BaggingClassifier(base_estimator=GaussianNB(), max_samples=1.0)\n",
    "\n",
    "indices = np.random.permutation(X.shape[0])  # shape[0]表示第0轴的长度，通常是训练数据的数量  \n",
    "rand_data_x = X[indices]\n",
    "rand_data_y = y[indices]  # data_y就是标记（label）  \n",
    "\n",
    "y_pred = cls.fit(rand_data_x, rand_data_y).predict(X_test)\n",
    "print(type(y_pred))\n",
    "acc = metrics.accuracy_score(y_test, y_pred)\n",
    "print(acc)\n"
   ]
  },
  {
   "cell_type": "code",
   "execution_count": 6,
   "metadata": {},
   "outputs": [],
   "source": [
    "# 我打算将数据手动分开再分别训练"
   ]
  },
  {
   "cell_type": "code",
   "execution_count": 7,
   "metadata": {},
   "outputs": [
    {
     "name": "stdout",
     "output_type": "stream",
     "text": [
      "7431 7431\n3114 3114\n"
     ]
    }
   ],
   "source": [
    "def split_class_1(X, y):\n",
    "    # 提取出类别为1的数据\n",
    "    X_1 = np.array([list(X[i]) for i in range(len(y)) if y[i] == 1])\n",
    "    y_1 = np.array([y[i] for i in range(len(y)) if y[i] == 1])\n",
    "    print(X_1.shape[0], y_1.shape[0])\n",
    "    # 提取出类别不为1的数据\n",
    "    X_n1 = np.array([list(X[i]) for i in range(len(y)) if y[i] != 1])\n",
    "    y_n1 = np.array([y[i] for i in range(len(y)) if y[i] != 1])\n",
    "    return X_1, y_1, X_n1, y_n1\n",
    "# print(len(X_n1), len(y_n1))"
   ]
  },
  {
   "cell_type": "code",
   "execution_count": 8,
   "metadata": {},
   "outputs": [
    {
     "name": "stdout",
     "output_type": "stream",
     "text": [
      "(6, 300)\n0.693333333333\n"
     ]
    }
   ],
   "source": [
    "pred_record = []\n",
    "y_pred = None\n",
    "al = int(len(X_1) / 7)\n",
    "gnb = GaussianNB()\n",
    "for i in range(6):\n",
    "    xt1 = X_1[i * al:(i + 1) * al, :]\n",
    "    yt1 = y_1[i * al:(i + 1) * al]\n",
    "    X_temp = np.concatenate((xt1, X_n1), axis=0)\n",
    "    y_temp = np.concatenate((yt1, y_n1), axis=0)\n",
    "    # print(temp.shape)\n",
    "    if i == 0:\n",
    "        y_pred = gnb.fit(X_temp, y_temp).predict(X_test)\n",
    "    else:\n",
    "        y_p = gnb.fit(X_temp, y_temp).predict(X_test)\n",
    "        y_pred = np.concatenate((y_pred, y_p))\n",
    "\n",
    "        # acc = metrics.accuracy_score(y_test, y_pred)\n",
    "        # print(acc)\n",
    "y_pred = y_pred.reshape(6, -1)\n",
    "print(y_pred.shape)\n",
    "\n",
    "col_len = y_pred.shape[1]\n",
    "# col_len = 5\n",
    "y_pred_final = []\n",
    "for i in range(col_len):\n",
    "    choose = Counter(list(y_pred[:, i])).most_common(1)[0][0]\n",
    "    # print(choose)\n",
    "    y_pred_final.append(choose)\n",
    "\n",
    "acc = metrics.accuracy_score(y_test, y_pred_final)\n",
    "print(acc)\n"
   ]
  },
  {
   "cell_type": "code",
   "execution_count": 9,
   "metadata": {},
   "outputs": [
    {
     "name": "stdout",
     "output_type": "stream",
     "text": [
      "0.71\n0.7\n0.62\n0.586666666667\n"
     ]
    }
   ],
   "source": [
    "\n",
    "al = int(len(X_1) / 4)\n",
    "gnb = GaussianNB()\n",
    "for i in range(4):\n",
    "    xt1 = X_1[i * al:(i + 1) * al, :]\n",
    "    yt1 = y_1[i * al:(i + 1) * al]\n",
    "    X_temp = np.concatenate((xt1, X_n1), axis=0)\n",
    "    y_temp = np.concatenate((yt1, y_n1), axis=0)\n",
    "    # print(temp.shape)\n",
    "    y_pred = gnb.fit(X_temp, y_temp).predict(X_test)\n",
    "    \n",
    "    # 记录每个结果,最后会评比\n",
    "    \n",
    "    acc = metrics.accuracy_score(y_test, y_pred)\n",
    "    print(acc)\n"
   ]
  },
  {
   "cell_type": "code",
   "execution_count": null,
   "metadata": {},
   "outputs": [],
   "source": []
  }
 ],
 "metadata": {
  "kernelspec": {
   "display_name": "Python 2",
   "language": "python",
   "name": "python2"
  },
  "language_info": {
   "codemirror_mode": {
    "name": "ipython",
    "version": 2
   },
   "file_extension": ".py",
   "mimetype": "text/x-python",
   "name": "python",
   "nbconvert_exporter": "python",
   "pygments_lexer": "ipython2",
   "version": "2.7.6"
  }
 },
 "nbformat": 4,
 "nbformat_minor": 0
}
