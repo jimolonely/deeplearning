{
 "cells": [
  {
   "cell_type": "code",
   "execution_count": 3,
   "metadata": {
    "collapsed": true
   },
   "outputs": [],
   "source": [
    "import tensorflow as tf\n",
    "import numpy as np\n",
    "import sklearn.feature_selection as fs\n",
    "\n",
    "TRAIN_DATA_FILE = \"train_data.csv\"\n",
    "TEST_DATA_FILE = \"test_data.csv\"\n",
    "\n",
    "\n",
    "def read_split_train_test_data():\n",
    "    training_set = tf.contrib.learn.datasets.base.load_csv_with_header(\n",
    "        filename=TRAIN_DATA_FILE,\n",
    "        target_dtype=np.int,\n",
    "        features_dtype=np.float32,\n",
    "        target_column=0\n",
    "    )\n",
    "    test_set = tf.contrib.learn.datasets.base.load_csv_with_header(\n",
    "        filename=TEST_DATA_FILE,\n",
    "        target_dtype=np.int,\n",
    "        features_dtype=np.float32,\n",
    "        target_column=0\n",
    "    )\n",
    "    # print(training_set)\n",
    "    X, y = training_set.data, training_set.target\n",
    "    # print(X.shape)\n",
    "    # print(y.shape)\n",
    "    X_test, y_test = test_set.data, test_set.target\n",
    "    # print(X_test.shape)\n",
    "    # print(y_test.shape)\n",
    "    return X, y, X_test, y_test\n",
    "\n",
    "\n",
    "def read_train_test_data():\n",
    "    '''不把标签和数据分开'''\n",
    "    x, y, x_t, y_t = read_split_train_test_data()\n",
    "    y = y.reshape(x.shape[0], -1)\n",
    "    # print(y.shape)\n",
    "    y_t = y_t.reshape(x_t.shape[0], -1)\n",
    "    x_train = np.concatenate((x, y), axis=1)\n",
    "    x_test = np.concatenate((x_t, y_t), axis=1)\n",
    "    # print(x_train.shape)\n",
    "    return x_train, x_test\n",
    "\n",
    "\n",
    "def split_data_label(X):\n",
    "    '''将数据和标签分开,默认标签位于最后一列'''\n",
    "    data, label = X[:, :-1], X[:, -1]\n",
    "    return data, label\n",
    "\n",
    "\n",
    "d_train, d_test = read_train_test_data()\n"
   ]
  },
  {
   "cell_type": "code",
   "execution_count": 1,
   "metadata": {},
   "outputs": [],
   "source": [
    "from imblearn.over_sampling import SMOTE, ADASYN\n",
    "from collections import Counter\n",
    "\n",
    "from sklearn.naive_bayes import GaussianNB\n",
    "from sklearn.ensemble import RandomForestClassifier\n",
    "from sklearn import metrics"
   ]
  },
  {
   "cell_type": "code",
   "execution_count": 11,
   "metadata": {},
   "outputs": [
    {
     "name": "stdout",
     "output_type": "stream",
     "text": [
      "[(0.0, 205), (1.0, 7431), (2.0, 53), (3.0, 1441), (4.0, 446), (5.0, 969)]\n"
     ]
    },
    {
     "name": "stdout",
     "output_type": "stream",
     "text": [
      "[(0.0, 7431), (1.0, 7431), (2.0, 7431), (3.0, 7431), (4.0, 7431), (5.0, 7431)]\n0.716666666667\n"
     ]
    }
   ],
   "source": [
    "x_test, y_test = split_data_label(d_test)\n",
    "x_train, y_train = split_data_label(d_train)\n",
    "\n",
    "# 过采样\n",
    "\n",
    "# 看看采样前类别分布\n",
    "print(sorted(Counter(y_train).items()))\n",
    "\n",
    "# 重采样\n",
    "X_resampled, y_resampled = SMOTE().fit_sample(x_train, y_train)\n",
    "print(sorted(Counter(y_resampled).items()))\n",
    "\n",
    "cls = GaussianNB()\n",
    "\n",
    "y_pred = cls.fit(X_resampled, y_resampled).predict(x_test)\n",
    "acc = metrics.accuracy_score(y_test, y_pred)\n",
    "print(acc)"
   ]
  },
  {
   "cell_type": "code",
   "execution_count": 12,
   "metadata": {},
   "outputs": [
    {
     "name": "stdout",
     "output_type": "stream",
     "text": [
      "[(0.0, 53), (1.0, 53), (2.0, 53), (3.0, 53), (4.0, 53), (5.0, 53)]\n0.62\n"
     ]
    }
   ],
   "source": [
    "# 试一下降采样\n",
    "\n",
    "from imblearn.under_sampling import ClusterCentroids\n",
    "\n",
    "X_resampled, y_resampled = ClusterCentroids().fit_sample(x_train, y_train)\n",
    "print(sorted(Counter(y_resampled).items()))\n",
    "\n",
    "cls = GaussianNB()\n",
    "\n",
    "y_pred = cls.fit(X_resampled, y_resampled).predict(x_test)\n",
    "acc = metrics.accuracy_score(y_test, y_pred)\n",
    "print(acc)"
   ]
  },
  {
   "cell_type": "code",
   "execution_count": 13,
   "metadata": {},
   "outputs": [
    {
     "name": "stdout",
     "output_type": "stream",
     "text": [
      "[(0.0, 7429), (1.0, 7200), (2.0, 7431), (3.0, 7391), (4.0, 7428), (5.0, 7414)]\n0.716666666667\n"
     ]
    }
   ],
   "source": [
    "# 结合降采样和过采样\n",
    "from imblearn.combine import SMOTEENN\n",
    "\n",
    "X_resampled, y_resampled = SMOTEENN().fit_sample(x_train, y_train)\n",
    "print(sorted(Counter(y_resampled).items()))\n",
    "\n",
    "cls = GaussianNB()\n",
    "\n",
    "y_pred = cls.fit(X_resampled, y_resampled).predict(x_test)\n",
    "acc = metrics.accuracy_score(y_test, y_pred)\n",
    "print(acc)"
   ]
  },
  {
   "cell_type": "code",
   "execution_count": 38,
   "metadata": {},
   "outputs": [
    {
     "name": "stdout",
     "output_type": "stream",
     "text": [
      "[(0.0, 7431), (1.0, 7431), (2.0, 7431), (3.0, 7431), (4.0, 7431), (5.0, 7431)]\n0.713333333333\n[[37  2  0  2  2  3]\n [ 0 58  6  6  8  0]\n [ 0 13 32  2  0  0]\n [ 0  7  3 39  3  1]\n [ 1  8  2  2 20  3]\n [ 5  1  0  0  6 28]]\n"
     ]
    }
   ],
   "source": [
    "# 结合降采样和过采样\n",
    "from imblearn.combine import SMOTETomek\n",
    "\n",
    "X_resampled, y_resampled = SMOTETomek().fit_sample(x_train, y_train)\n",
    "print(sorted(Counter(y_resampled).items()))\n",
    "\n",
    "cls = GaussianNB()\n",
    "\n",
    "y_pred = cls.fit(X_resampled, y_resampled).predict(x_test)\n",
    "acc = metrics.accuracy_score(y_test, y_pred)\n",
    "print(acc)\n",
    "print(metrics.confusion_matrix(y_test, y_pred))\n"
   ]
  },
  {
   "cell_type": "code",
   "execution_count": 65,
   "metadata": {},
   "outputs": [
    {
     "name": "stdout",
     "output_type": "stream",
     "text": [
      "0.726666666667\n[[38  2  0  3  1  2]\n [ 0 50  6  5 17  0]\n [ 1  8 33  2  3  0]\n [ 0  2  4 42  4  1]\n [ 0  5  2  8 21  0]\n [ 1  1  0  0  4 34]]\n"
     ]
    }
   ],
   "source": [
    "# 集成\n",
    "from imblearn.ensemble import BalancedBaggingClassifier\n",
    "\n",
    "bbc = BalancedBaggingClassifier(base_estimator=RandomForestClassifier())\n",
    "\n",
    "y_pred = bbc.fit(x_train, y_train).predict(x_test)\n",
    "acc = metrics.accuracy_score(y_test, y_pred)\n",
    "print(acc)\n",
    "print(metrics.confusion_matrix(y_test, y_pred))\n"
   ]
  },
  {
   "cell_type": "code",
   "execution_count": null,
   "metadata": {},
   "outputs": [],
   "source": []
  }
 ],
 "metadata": {
  "kernelspec": {
   "display_name": "Python 2",
   "language": "python",
   "name": "python2"
  },
  "language_info": {
   "codemirror_mode": {
    "name": "ipython",
    "version": 2
   },
   "file_extension": ".py",
   "mimetype": "text/x-python",
   "name": "python",
   "nbconvert_exporter": "python",
   "pygments_lexer": "ipython2",
   "version": "2.7.6"
  }
 },
 "nbformat": 4,
 "nbformat_minor": 0
}
