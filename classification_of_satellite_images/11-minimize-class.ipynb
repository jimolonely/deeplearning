{
 "cells": [
  {
   "cell_type": "code",
   "execution_count": 1,
   "metadata": {
    "collapsed": true
   },
   "outputs": [],
   "source": [
    "import tensorflow as tf\n",
    "import numpy as np\n",
    "import sklearn.feature_selection as fs\n",
    "\n",
    "TRAIN_DATA_FILE = \"train_data.csv\"\n",
    "TEST_DATA_FILE = \"test_data.csv\"\n",
    "\n",
    "\n",
    "def read_split_train_test_data():\n",
    "    training_set = tf.contrib.learn.datasets.base.load_csv_with_header(\n",
    "        filename=TRAIN_DATA_FILE,\n",
    "        target_dtype=np.int,\n",
    "        features_dtype=np.float32,\n",
    "        target_column=0\n",
    "    )\n",
    "    test_set = tf.contrib.learn.datasets.base.load_csv_with_header(\n",
    "        filename=TEST_DATA_FILE,\n",
    "        target_dtype=np.int,\n",
    "        features_dtype=np.float32,\n",
    "        target_column=0\n",
    "    )\n",
    "    # print(training_set)\n",
    "    X, y = training_set.data, training_set.target\n",
    "    # print(X.shape)\n",
    "    # print(y.shape)\n",
    "    X_test, y_test = test_set.data, test_set.target\n",
    "    # print(X_test.shape)\n",
    "    # print(y_test.shape)\n",
    "    return X, y, X_test, y_test\n",
    "\n",
    "\n",
    "def read_train_test_data():\n",
    "    '''不把标签和数据分开'''\n",
    "    x, y, x_t, y_t = read_split_train_test_data()\n",
    "    y = y.reshape(x.shape[0], -1)\n",
    "    # print(y.shape)\n",
    "    y_t = y_t.reshape(x_t.shape[0], -1)\n",
    "    x_train = np.concatenate((x, y), axis=1)\n",
    "    x_test = np.concatenate((x_t, y_t), axis=1)\n",
    "    # print(x_train.shape)\n",
    "    return x_train, x_test\n",
    "\n",
    "\n",
    "def split_data_label(X):\n",
    "    '''将数据和标签分开,默认标签位于最后一列'''\n",
    "    data, label = X[:, :-1], X[:, -1]\n",
    "    return data, label\n",
    "\n",
    "\n",
    "d_train, d_test = read_train_test_data()\n"
   ]
  },
  {
   "cell_type": "code",
   "execution_count": 62,
   "metadata": {},
   "outputs": [],
   "source": [
    "from sklearn.naive_bayes import GaussianNB\n",
    "from sklearn.ensemble import RandomForestClassifier\n",
    "from sklearn import metrics\n",
    "from imblearn.ensemble import BalancedBaggingClassifier\n",
    "from imblearn.combine import SMOTEENN\n",
    "from imblearn.over_sampling import SMOTE\n",
    "from collections import Counter"
   ]
  },
  {
   "cell_type": "code",
   "execution_count": 68,
   "metadata": {},
   "outputs": [
    {
     "name": "stdout",
     "output_type": "stream",
     "text": [
      "0.779279279279\n[[37  0  2  4  3]\n [ 0 32 12  3  0]\n [ 0  2 46  3  2]\n [ 1  1  7 24  3]\n [ 0  0  2  4 34]]\n0.810810810811\n[[38  0  2  4  2]\n [ 0 39  5  3  0]\n [ 0  4 44  4  1]\n [ 1  2  8 25  0]\n [ 0  0  3  3 34]]\n"
     ]
    },
    {
     "name": "stdout",
     "output_type": "stream",
     "text": [
      "[(0.0, 1441), (2.0, 1441), (3.0, 1441), (4.0, 1441), (5.0, 1441)]\n0.765765765766\n[[37  0  3  3  3]\n [ 0 37  7  3  0]\n [ 0  3 43  6  1]\n [ 0  2  6 25  3]\n [ 5  0  1  6 28]]\n"
     ]
    }
   ],
   "source": [
    "# 提取出5个类别,把1(森林去掉)\n",
    "x_temp = np.array([d_train[i] for i in range(d_train.shape[0]) if d_train[i][-1] != 1])\n",
    "x_train, y_train = split_data_label(x_temp)\n",
    "x_temp = np.array([list(d_test[i]) for i in range(d_test.shape[0]) if d_test[i][-1] != 1])\n",
    "x_test, y_test = split_data_label(x_temp)\n",
    "\n",
    "cls = GaussianNB()\n",
    "\n",
    "y_pred = cls.fit(x_train, y_train).predict(x_test)\n",
    "acc = metrics.accuracy_score(y_test, y_pred)\n",
    "print(acc)\n",
    "print(metrics.confusion_matrix(y_test, y_pred))\n",
    "\n",
    "# SMOTE+RF\n",
    "\n",
    "# 集成\n",
    "\n",
    "bbc = BalancedBaggingClassifier(base_estimator=RandomForestClassifier())\n",
    "\n",
    "y_pred = bbc.fit(x_train, y_train).predict(x_test)\n",
    "acc = metrics.accuracy_score(y_test, y_pred)\n",
    "print(acc)\n",
    "print(metrics.confusion_matrix(y_test, y_pred))\n",
    "\n",
    "# 结合降采样和过采样\n",
    "\n",
    "X_resampled, y_resampled = SMOTE().fit_sample(x_train, y_train)\n",
    "print(sorted(Counter(y_resampled).items()))\n",
    "\n",
    "cls = GaussianNB()\n",
    "\n",
    "y_pred = cls.fit(X_resampled, y_resampled).predict(x_test)\n",
    "acc = metrics.accuracy_score(y_test, y_pred)\n",
    "print(acc)\n",
    "print(metrics.confusion_matrix(y_test, y_pred))\n"
   ]
  },
  {
   "cell_type": "code",
   "execution_count": 71,
   "metadata": {},
   "outputs": [
    {
     "name": "stdout",
     "output_type": "stream",
     "text": [
      "0.827956989247\n[[37  0  6  3]\n [ 0 33 14  0]\n [ 0  2 49  2]\n [ 0  0  5 35]]\n0.865591397849\n[[38  0  4  4]\n [ 1 41  5  0]\n [ 0  3 47  3]\n [ 1  0  4 35]]\n"
     ]
    },
    {
     "name": "stdout",
     "output_type": "stream",
     "text": [
      "[(0.0, 1441), (2.0, 1441), (3.0, 1441), (5.0, 1441)]\n0.811827956989\n[[37  0  6  3]\n [ 0 36 11  0]\n [ 0  3 48  2]\n [ 5  0  5 30]]\n"
     ]
    }
   ],
   "source": [
    "# 提取出4个类别,把1(森林)和4(草地)去掉\n",
    "x_temp = np.array([d_train[i] for i in range(d_train.shape[0]) if d_train[i][-1] != 1])\n",
    "x_temp = np.array([x_temp[i] for i in range(x_temp.shape[0]) if x_temp[i][-1] != 4])\n",
    "x_train, y_train = split_data_label(x_temp)\n",
    "x_temp = np.array([d_test[i] for i in range(d_test.shape[0]) if d_test[i][-1] != 1])\n",
    "x_temp = np.array([x_temp[i] for i in range(x_temp.shape[0]) if x_temp[i][-1] != 4])\n",
    "x_test, y_test = split_data_label(x_temp)\n",
    "\n",
    "cls = GaussianNB()\n",
    "\n",
    "y_pred = cls.fit(x_train, y_train).predict(x_test)\n",
    "acc = metrics.accuracy_score(y_test, y_pred)\n",
    "print(acc)\n",
    "print(metrics.confusion_matrix(y_test, y_pred))\n",
    "\n",
    "# SMOTE+RF\n",
    "\n",
    "# 集成\n",
    "\n",
    "bbc = BalancedBaggingClassifier(base_estimator=RandomForestClassifier())\n",
    "\n",
    "y_pred = bbc.fit(x_train, y_train).predict(x_test)\n",
    "acc = metrics.accuracy_score(y_test, y_pred)\n",
    "print(acc)\n",
    "print(metrics.confusion_matrix(y_test, y_pred))\n",
    "\n",
    "# 结合降采样和过采样\n",
    "\n",
    "X_resampled, y_resampled = SMOTE().fit_sample(x_train, y_train)\n",
    "print(sorted(Counter(y_resampled).items()))\n",
    "\n",
    "cls = GaussianNB()\n",
    "\n",
    "y_pred = cls.fit(X_resampled, y_resampled).predict(x_test)\n",
    "acc = metrics.accuracy_score(y_test, y_pred)\n",
    "print(acc)\n",
    "print(metrics.confusion_matrix(y_test, y_pred))\n"
   ]
  },
  {
   "cell_type": "code",
   "execution_count": 76,
   "metadata": {},
   "outputs": [
    {
     "name": "stdout",
     "output_type": "stream",
     "text": [
      "0.798245614035\n[[69  9]\n [14 22]]\n"
     ]
    },
    {
     "name": "stdout",
     "output_type": "stream",
     "text": [
      "0.736842105263\n[[56 22]\n [ 8 28]]\n[(1.0, 7431), (4.0, 7431)]\n0.780701754386\n[[65 13]\n [12 24]]\n"
     ]
    }
   ],
   "source": [
    "# 提取出剩余2个类别,1(森林)和4(草地)\n",
    "x_temp = np.array([d_train[i] for i in range(d_train.shape[0]) if d_train[i][-1] == 1 or d_train[i][-1] == 4])\n",
    "x_train, y_train = split_data_label(x_temp)\n",
    "x_temp = np.array([d_test[i] for i in range(d_test.shape[0]) if d_test[i][-1] == 1 or d_test[i][-1] == 4])\n",
    "x_test, y_test = split_data_label(x_temp)\n",
    "\n",
    "cls = GaussianNB()\n",
    "\n",
    "y_pred = cls.fit(x_train, y_train).predict(x_test)\n",
    "acc = metrics.accuracy_score(y_test, y_pred)\n",
    "print(acc)\n",
    "print(metrics.confusion_matrix(y_test, y_pred))\n",
    "\n",
    "# 集成\n",
    "\n",
    "bbc = BalancedBaggingClassifier(base_estimator=RandomForestClassifier())\n",
    "\n",
    "y_pred = bbc.fit(x_train, y_train).predict(x_test)\n",
    "acc = metrics.accuracy_score(y_test, y_pred)\n",
    "print(acc)\n",
    "print(metrics.confusion_matrix(y_test, y_pred))\n",
    "\n",
    "# 结合降采样和过采样\n",
    "\n",
    "X_resampled, y_resampled = SMOTE().fit_sample(x_train, y_train)\n",
    "print(sorted(Counter(y_resampled).items()))\n",
    "\n",
    "cls = GaussianNB()\n",
    "\n",
    "y_pred = cls.fit(X_resampled, y_resampled).predict(x_test)\n",
    "acc = metrics.accuracy_score(y_test, y_pred)\n",
    "print(acc)\n",
    "print(metrics.confusion_matrix(y_test, y_pred))\n"
   ]
  },
  {
   "cell_type": "code",
   "execution_count": null,
   "metadata": {},
   "outputs": [],
   "source": []
  }
 ],
 "metadata": {
  "kernelspec": {
   "display_name": "Python 2",
   "language": "python",
   "name": "python2"
  },
  "language_info": {
   "codemirror_mode": {
    "name": "ipython",
    "version": 2
   },
   "file_extension": ".py",
   "mimetype": "text/x-python",
   "name": "python",
   "nbconvert_exporter": "python",
   "pygments_lexer": "ipython2",
   "version": "2.7.6"
  }
 },
 "nbformat": 4,
 "nbformat_minor": 0
}
