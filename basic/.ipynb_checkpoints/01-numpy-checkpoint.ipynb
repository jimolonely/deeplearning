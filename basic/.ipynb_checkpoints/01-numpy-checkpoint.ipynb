{
 "cells": [
  {
   "cell_type": "markdown",
   "metadata": {},
   "source": [
    "# numpy"
   ]
  },
  {
   "cell_type": "code",
   "execution_count": 1,
   "metadata": {},
   "outputs": [],
   "source": [
    "from numpy import *"
   ]
  },
  {
   "cell_type": "code",
   "execution_count": 2,
   "metadata": {},
   "outputs": [
    {
     "data": {
      "text/plain": [
       "array([[ 0.38311961,  0.88168514,  0.98882693,  0.24826454],\n",
       "       [ 0.01779948,  0.97131538,  0.26763739,  0.47210841],\n",
       "       [ 0.99544715,  0.21137001,  0.92749406,  0.15683849],\n",
       "       [ 0.36563555,  0.39946488,  0.70890836,  0.26477113]])"
      ]
     },
     "execution_count": 2,
     "metadata": {},
     "output_type": "execute_result"
    }
   ],
   "source": [
    "random.rand(4,4)"
   ]
  },
  {
   "cell_type": "code",
   "execution_count": 4,
   "metadata": {},
   "outputs": [
    {
     "name": "stdout",
     "output_type": "stream",
     "text": [
      "[[ 0.97367917  0.03758767  0.95726989  0.28697613]\n",
      " [ 0.9003815   0.64151534  0.48019491  0.42069362]\n",
      " [ 0.83969068  0.87089087  0.42753312  0.51458974]\n",
      " [ 0.72198425  0.2659388   0.35478102  0.7986486 ]]\n"
     ]
    }
   ],
   "source": [
    "randMat = mat(random.rand(4,4)) # 将数组转化为矩阵\n",
    "print(randMat)"
   ]
  },
  {
   "cell_type": "code",
   "execution_count": 8,
   "metadata": {},
   "outputs": [
    {
     "name": "stdout",
     "output_type": "stream",
     "text": [
      "[[-1.49775925  8.41015652 -6.15252309  0.07230625]\n",
      " [ 0.09066808 -2.3960553   3.15451833 -0.80297792]\n",
      " [ 2.50067855 -7.40655     5.51625028 -0.55137213]\n",
      " [ 0.21292611 -3.51480374  2.06105041  1.69906438]]\n",
      "[[  1.00000000e+00   9.64975887e-16  -4.82993835e-16   2.25178538e-17]\n",
      " [  1.18520350e-16   1.00000000e+00  -2.81687299e-16  -4.98458516e-17]\n",
      " [  2.12433290e-16  -9.65673021e-16   1.00000000e+00  -1.17443367e-17]\n",
      " [ -1.54835699e-16  -1.15735195e-17   5.62147777e-17   1.00000000e+00]]\n",
      "[[  0.00000000e+00   9.64975887e-16  -4.82993835e-16   2.25178538e-17]\n",
      " [  1.18520350e-16  -7.77156117e-16  -2.81687299e-16  -4.98458516e-17]\n",
      " [  2.12433290e-16  -9.65673021e-16   4.44089210e-16  -1.17443367e-17]\n",
      " [ -1.54835699e-16  -1.15735195e-17   5.62147777e-17   0.00000000e+00]]\n"
     ]
    }
   ],
   "source": [
    "# 求逆\n",
    "invRandMat = randMat.I\n",
    "print(invRandMat)\n",
    "# 乘法\n",
    "myEye  = randMat*invRandMat\n",
    "print(myEye)\n",
    "# 误差\n",
    "print(myEye - eye(4))"
   ]
  },
  {
   "cell_type": "code",
   "execution_count": 7,
   "metadata": {},
   "outputs": [
    {
     "data": {
      "text/plain": [
       "matrix([[ 0.97367917,  0.9003815 ,  0.83969068,  0.72198425],\n",
       "        [ 0.03758767,  0.64151534,  0.87089087,  0.2659388 ],\n",
       "        [ 0.95726989,  0.48019491,  0.42753312,  0.35478102],\n",
       "        [ 0.28697613,  0.42069362,  0.51458974,  0.7986486 ]])"
      ]
     },
     "execution_count": 7,
     "metadata": {},
     "output_type": "execute_result"
    }
   ],
   "source": [
    "# 求转置\n",
    "randMat.T"
   ]
  }
 ],
 "metadata": {
  "kernelspec": {
   "display_name": "Python 3",
   "language": "python",
   "name": "python3"
  },
  "language_info": {
   "codemirror_mode": {
    "name": "ipython",
    "version": 3
   },
   "file_extension": ".py",
   "mimetype": "text/x-python",
   "name": "python",
   "nbconvert_exporter": "python",
   "pygments_lexer": "ipython3",
   "version": "3.6.2"
  }
 },
 "nbformat": 4,
 "nbformat_minor": 2
}
