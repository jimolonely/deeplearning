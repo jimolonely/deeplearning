{
 "cells": [
  {
   "cell_type": "code",
   "execution_count": 1,
   "metadata": {},
   "outputs": [],
   "source": [
    "import numpy as np"
   ]
  },
  {
   "cell_type": "raw",
   "metadata": {},
   "source": [
    "有一些坑要注意一下，先看"
   ]
  },
  {
   "cell_type": "code",
   "execution_count": 9,
   "metadata": {},
   "outputs": [
    {
     "name": "stdout",
     "output_type": "stream",
     "text": [
      "[-2.78557739 -0.34436656 -0.0189805   1.09579211 -0.80504492]\n",
      "(5,)\n"
     ]
    }
   ],
   "source": [
    "# 我想声明一个5*1的矩阵\n",
    "A = np.random.randn(5)\n",
    "print(A)\n",
    "print(A.shape)"
   ]
  },
  {
   "cell_type": "code",
   "execution_count": 4,
   "metadata": {},
   "outputs": [
    {
     "name": "stdout",
     "output_type": "stream",
     "text": [
      "[ 0.68829583 -0.27475233  1.60458246 -0.44984826 -1.07509397]\n"
     ]
    }
   ],
   "source": [
    "#计算其转置\n",
    "print(A.T)"
   ]
  },
  {
   "cell_type": "raw",
   "metadata": {},
   "source": [
    "发现还是一样的，那他们的乘积呢"
   ]
  },
  {
   "cell_type": "code",
   "execution_count": 5,
   "metadata": {},
   "outputs": [
    {
     "name": "stdout",
     "output_type": "stream",
     "text": [
      "4.48211535654\n"
     ]
    }
   ],
   "source": [
    "print(np.dot(A,A.T))"
   ]
  },
  {
   "cell_type": "raw",
   "metadata": {},
   "source": [
    "现在使用完整定义"
   ]
  },
  {
   "cell_type": "code",
   "execution_count": 10,
   "metadata": {},
   "outputs": [
    {
     "name": "stdout",
     "output_type": "stream",
     "text": [
      "[[ 0.22532613]\n",
      " [-0.31761129]\n",
      " [ 1.31998409]\n",
      " [ 1.84651602]\n",
      " [ 0.22119121]]\n",
      "(5, 1)\n"
     ]
    }
   ],
   "source": [
    "B = np.random.randn(5,1)\n",
    "print(B)\n",
    "print(B.shape)"
   ]
  },
  {
   "cell_type": "code",
   "execution_count": 7,
   "metadata": {},
   "outputs": [
    {
     "name": "stdout",
     "output_type": "stream",
     "text": [
      "[[-1.09026005  1.3278176   0.51767023  0.14076047 -0.14934813]]\n"
     ]
    }
   ],
   "source": [
    "print(B.T)"
   ]
  },
  {
   "cell_type": "code",
   "execution_count": 8,
   "metadata": {},
   "outputs": [
    {
     "name": "stdout",
     "output_type": "stream",
     "text": [
      "[[ 1.18866698 -1.44766649 -0.56439517 -0.15346552  0.1628283 ]\n",
      " [-1.44766649  1.76309959  0.68737164  0.18690424 -0.19830708]\n",
      " [-0.56439517  0.68737164  0.26798246  0.07286751 -0.07731308]\n",
      " [-0.15346552  0.18690424  0.07286751  0.01981351 -0.02102231]\n",
      " [ 0.1628283  -0.19830708 -0.07731308 -0.02102231  0.02230486]]\n"
     ]
    }
   ],
   "source": [
    "print(np.dot(B,B.T))"
   ]
  },
  {
   "cell_type": "markdown",
   "metadata": {},
   "source": [
    "## 总结"
   ]
  },
  {
   "cell_type": "markdown",
   "metadata": {},
   "source": [
    "1. 使用完整的维数randn(m,n)\n",
    "2. 使用断言：assert(a.shape==(5,1))\n",
    "3. 修正维数：a = a.reshape(5,1)"
   ]
  }
 ],
 "metadata": {
  "kernelspec": {
   "display_name": "Python 3",
   "language": "python",
   "name": "python3"
  },
  "language_info": {
   "codemirror_mode": {
    "name": "ipython",
    "version": 3
   },
   "file_extension": ".py",
   "mimetype": "text/x-python",
   "name": "python",
   "nbconvert_exporter": "python",
   "pygments_lexer": "ipython3",
   "version": "3.6.2"
  }
 },
 "nbformat": 4,
 "nbformat_minor": 2
}
